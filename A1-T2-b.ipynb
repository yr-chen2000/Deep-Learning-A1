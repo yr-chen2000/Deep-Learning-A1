{
 "cells": [
  {
   "cell_type": "code",
   "execution_count": null,
   "metadata": {},
   "outputs": [],
   "source": [
    "from __future__ import print_function\n",
    "import keras\n",
    "from keras.models import Sequential\n",
    "from keras.layers import Dense, Dropout, Flatten\n",
    "from keras.layers import Conv2D, MaxPooling2D\n",
    "from keras import backend as K\n",
    "import numpy as np\n",
    "from sklearn.model_selection import train_test_split\n",
    "import matplotlib.pyplot as plt"
   ]
  },
  {
   "cell_type": "code",
   "execution_count": null,
   "metadata": {},
   "outputs": [],
   "source": [
    "#Load Data\n",
    "images = np.load('data/images.npy')\n",
    "labels = np.load('data/labels.npy')\n",
    "\n",
    "#Shuffle\n",
    "indices = np.arange(images.shape[0])\n",
    "np.random.shuffle(indices)\n",
    "images = images[indices]\n",
    "labels = labels[indices]\n",
    "\n",
    "# input image dimensions\n",
    "img_rows, img_cols = images.shape[1], images.shape[2]\n",
    "\n",
    "if K.image_data_format() == 'channels_first':\n",
    "    images = images.reshape(images.shape[0], 1, img_rows, img_cols)\n",
    "    input_shape = (1, img_rows, img_cols)\n",
    "else:\n",
    "    images = images.reshape(images.shape[0], img_rows, img_cols, 1)\n",
    "    input_shape = (img_rows, img_cols, 1)\n",
    "\n",
    "images = images.astype('float32')\n",
    "images /= 255\n",
    "\n",
    "#80/10/10% splits for training/validation and test sets\n",
    "train_images, temp_images, train_labels, temp_labels = train_test_split(images, labels, test_size=0.2)\n",
    "val_images, test_images, val_labels, test_labels = train_test_split(temp_images, temp_labels, test_size=0.5)"
   ]
  },
  {
   "cell_type": "code",
   "execution_count": null,
   "metadata": {},
   "outputs": [],
   "source": [
    "#“common sense” accuracy\n",
    "def common_sense_accuracy(predicted, actual):\n",
    "\n",
    "    pred_minutes = predicted[0]*60+predicted[1]\n",
    "    actual_minutes = actual[0]*60+actual[1]\n",
    "\n",
    "    abs_diff = abs(pred_minutes-actual_minutes)\n",
    "    \n",
    "    return min(abs_diff, 12*60-abs_diff)"
   ]
  },
  {
   "cell_type": "code",
   "execution_count": null,
   "metadata": {},
   "outputs": [],
   "source": [
    "batch_size = 32\n",
    "epochs = 30\n",
    "def re_category(labels):\n",
    "    # Hours transformation to sine and cosine (radians: 0 to 2π)\n",
    "    hour_angle = (labels[:][0]) * (2 * np.pi / 12)\n",
    "    hour_sin = np.sin(hour_angle)\n",
    "    hour_cos = np.cos(hour_angle)\n",
    "\n",
    "    # Minutes transformation to sine and cosine (radians: 0 to 2π)\n",
    "    minute_angle = labels[:][1] * (2 * np.pi / 60)\n",
    "    minute_sin = np.sin(minute_angle)\n",
    "    minute_cos = np.cos(minute_angle)\n",
    "\n",
    "    transformed_labels = np.vstack((hour_sin, hour_cos, minute_sin, minute_cos)).T\n",
    "    return transformed_labels\n",
    "\n",
    "train_labels2 = np.array([re_category(h) for h in train_labels])\n",
    "val_labels2= np.array([re_category(h) for h in val_labels])\n",
    "test_labels2 = np.array([re_category(h) for h in test_labels])"
   ]
  },
  {
   "cell_type": "code",
   "execution_count": null,
   "metadata": {},
   "outputs": [],
   "source": [
    "# Build Model\n",
    "model = Sequential()\n",
    "model.add(Conv2D(32, kernel_size=(3, 3),\n",
    "                 activation='relu',\n",
    "                 input_shape=input_shape))\n",
    "model.add(Conv2D(64, (3, 3), activation='relu'))\n",
    "model.add(MaxPooling2D(pool_size=(2, 2)))\n",
    "model.add(Dropout(0.1))\n",
    "model.add(Conv2D(128, (3, 3), activation='relu'))\n",
    "model.add(MaxPooling2D(pool_size=(2, 2)))\n",
    "model.add(Dropout(0.1))\n",
    "model.add(Conv2D(256, (3, 3), activation='relu'))\n",
    "model.add(MaxPooling2D(pool_size=(2, 2)))\n",
    "model.add(Dropout(0.1))\n",
    "model.add(Flatten())\n",
    "model.add(Dense(256, activation='relu'))\n",
    "model.add(Dropout(0.1))\n",
    "model.add(Dense(128, activation='relu'))\n",
    "model.add(Dropout(0.1))\n",
    "model.add(Dense(4, activation='tanh'))\n",
    "\n",
    "\n",
    "model.compile(loss='mean_squared_error',  \n",
    "              optimizer=keras.optimizers.Adadelta(),\n",
    "              metrics=['mae'])\n",
    "\n",
    "# Fit Model\n",
    "model.fit(train_images, train_labels2,\n",
    "          batch_size=batch_size,\n",
    "          epochs=epochs,\n",
    "          verbose=1,\n",
    "          validation_data=(val_images, val_labels2))\n",
    "\n",
    "# Evaluate Model\n",
    "score = model.evaluate(val_images, val_labels2, verbose=0)\n",
    "print('Validation loss (MSE):', score[0])\n",
    "print('Validation MAE:', score[1])\n",
    "score_final = model.evaluate(test_images, test_labels2, verbose=0)\n",
    "print('Test loss (MSE):', score_final[0])\n",
    "print('Test MAE:', score_final[1])"
   ]
  },
  {
   "cell_type": "code",
   "execution_count": null,
   "metadata": {},
   "outputs": [],
   "source": [
    "def calculate_time_from_predictions(predictions):\n",
    "    hour_sin, hour_cos, minute_sin, minute_cos = predictions[:, 0], predictions[:, 1], predictions[:, 2], predictions[:, 3]\n",
    "\n",
    "    # Calculate angles for hours and minutes\n",
    "    hour_angle = np.arctan2(hour_sin, hour_cos)\n",
    "    minute_angle = np.arctan2(minute_sin, minute_cos)\n",
    "\n",
    "    # Convert angles back to hour and minute values\n",
    "    hour = ((hour_angle % (2 * np.pi)) * (12 / (2 * np.pi))).astype(int)\n",
    "    minute = ((minute_angle % (2 * np.pi)) * (60 / (2 * np.pi))).astype(int)\n",
    "\n",
    "    return hour, minute"
   ]
  },
  {
   "cell_type": "code",
   "execution_count": null,
   "metadata": {},
   "outputs": [],
   "source": [
    "predictions = model.predict(test_images)\n",
    "predicted_hours, predicted_minutes = calculate_time_from_predictions(predictions)\n",
    "common_sense_errors = [common_sense_accuracy([pred_hour, pred_min], test)\n",
    "                       for pred_hour, pred_min, test, in zip(predicted_hours, predicted_minutes,test_labels)]\n",
    "print('Average common sense error:', np.mean(common_sense_errors))"
   ]
  },
  {
   "cell_type": "code",
   "execution_count": null,
   "metadata": {},
   "outputs": [],
   "source": [
    "# Plot a sample of clock images\n",
    "plt.figure(figsize=(12, 12))\n",
    "for i in range(16):\n",
    "    plt.subplot(4, 4, i + 1)\n",
    "    plt.imshow(test_images[i], cmap='gray')\n",
    "    plt.title(f'Predict: {predicted_hours[i]}:{predicted_minutes[i]:02d},Label: {test_labels[i][0]}:{test_labels[i][1]:02d}')\n",
    "    plt.axis('off')\n",
    "plt.show()"
   ]
  }
 ],
 "metadata": {
  "kernelspec": {
   "display_name": "IDL",
   "language": "python",
   "name": "python3"
  },
  "language_info": {
   "codemirror_mode": {
    "name": "ipython",
    "version": 3
   },
   "file_extension": ".py",
   "mimetype": "text/x-python",
   "name": "python",
   "nbconvert_exporter": "python",
   "pygments_lexer": "ipython3",
   "version": "3.12.7"
  }
 },
 "nbformat": 4,
 "nbformat_minor": 2
}
